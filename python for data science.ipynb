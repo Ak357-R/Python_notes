{
 "cells": [
  {
   "cell_type": "markdown",
   "id": "3e4f8fff",
   "metadata": {},
   "source": [
    "# python for data science"
   ]
  },
  {
   "cell_type": "markdown",
   "id": "e4b776c1",
   "metadata": {},
   "source": [
    "Basic of python <br>\n",
    "1.operators <br>\n",
    "2.Variables and variables naming conventions<br>\n",
    "3.Data types in pyhton  <br>\n",
    "4.Conditional statements <br>\n",
    "5.Looping Statements <br>\n",
    "6.funtions <br>\n",
    "7.packages in python <br>\n",
    "8.Getting Familiar with pandas library in python <br>"
   ]
  },
  {
   "cell_type": "markdown",
   "id": "0c7b49ac",
   "metadata": {},
   "source": [
    "\"\"\"\"\n",
    "# Operators <br>\n",
    "\n",
    "Symbolic representation of mathematical tasks <br>\n",
    "\n",
    "3+5 3 and 5 are opernds and + is operator\n",
    "\n",
    "if we take a string and multipy it by opertors it will multiple\n",
    "\n",
    "operators are 3 types <br>\n",
    "1.arthematica  <br>\n",
    "2.comparison operator <br>\n",
    "3.logical operator <br>\n",
    " and & or opertores retuns only operands and not will retuen only true or flase \"\"\""
   ]
  },
  {
   "cell_type": "markdown",
   "id": "930bebd7",
   "metadata": {},
   "source": [
    "'''and > retuen the first flase value ; if not found returns last\n",
    "or return first true value ; if not found return last\n",
    "not > flip the bollran value of the poerand\n",
    "\n",
    "0 is flase <br>\n",
    "1 is true <br>\n",
    "'''"
   ]
  },
  {
   "cell_type": "markdown",
   "id": "42fb3acc",
   "metadata": {},
   "source": [
    "# Arthematica Operator"
   ]
  },
  {
   "cell_type": "code",
   "execution_count": 3,
   "id": "ee0cff61",
   "metadata": {},
   "outputs": [
    {
     "data": {
      "text/plain": [
       "7"
      ]
     },
     "execution_count": 3,
     "metadata": {},
     "output_type": "execute_result"
    }
   ],
   "source": [
    "# additions\n",
    "4+3"
   ]
  },
  {
   "cell_type": "code",
   "execution_count": 4,
   "id": "dec9e173",
   "metadata": {},
   "outputs": [
    {
     "data": {
      "text/plain": [
       "-1"
      ]
     },
     "execution_count": 4,
     "metadata": {},
     "output_type": "execute_result"
    }
   ],
   "source": [
    "# subtraction \n",
    "54-55"
   ]
  },
  {
   "cell_type": "code",
   "execution_count": 6,
   "id": "f35c955a",
   "metadata": {},
   "outputs": [
    {
     "data": {
      "text/plain": [
       "8"
      ]
     },
     "execution_count": 6,
     "metadata": {},
     "output_type": "execute_result"
    }
   ],
   "source": [
    "# multification\n",
    "\n",
    "2*4"
   ]
  },
  {
   "cell_type": "code",
   "execution_count": 9,
   "id": "1513b150",
   "metadata": {},
   "outputs": [
    {
     "data": {
      "text/plain": [
       "5.285714285714286"
      ]
     },
     "execution_count": 9,
     "metadata": {},
     "output_type": "execute_result"
    }
   ],
   "source": [
    "# division\n",
    "37/7"
   ]
  },
  {
   "cell_type": "code",
   "execution_count": 10,
   "id": "e20362a3",
   "metadata": {},
   "outputs": [
    {
     "data": {
      "text/plain": [
       "'akash30'"
      ]
     },
     "execution_count": 10,
     "metadata": {},
     "output_type": "execute_result"
    }
   ],
   "source": [
    "\"akash\"+\"30\""
   ]
  },
  {
   "cell_type": "code",
   "execution_count": 11,
   "id": "fc282338",
   "metadata": {},
   "outputs": [
    {
     "data": {
      "text/plain": [
       "'akashakashakashakashakashakash'"
      ]
     },
     "execution_count": 11,
     "metadata": {},
     "output_type": "execute_result"
    }
   ],
   "source": [
    "\"akash\"*6"
   ]
  },
  {
   "cell_type": "markdown",
   "id": "05e49a27",
   "metadata": {},
   "source": [
    "## COMPARITION OPERATORS"
   ]
  },
  {
   "cell_type": "code",
   "execution_count": 12,
   "id": "272c1482",
   "metadata": {},
   "outputs": [
    {
     "data": {
      "text/plain": [
       "True"
      ]
     },
     "execution_count": 12,
     "metadata": {},
     "output_type": "execute_result"
    }
   ],
   "source": [
    "# greater then\n",
    "5>4"
   ]
  },
  {
   "cell_type": "code",
   "execution_count": 13,
   "id": "feadc1ed",
   "metadata": {},
   "outputs": [
    {
     "data": {
      "text/plain": [
       "True"
      ]
     },
     "execution_count": 13,
     "metadata": {},
     "output_type": "execute_result"
    }
   ],
   "source": [
    "# less then\n",
    "4>3"
   ]
  },
  {
   "cell_type": "code",
   "execution_count": 14,
   "id": "5082b2d0",
   "metadata": {},
   "outputs": [
    {
     "data": {
      "text/plain": [
       "False"
      ]
     },
     "execution_count": 14,
     "metadata": {},
     "output_type": "execute_result"
    }
   ],
   "source": [
    "3>4"
   ]
  },
  {
   "cell_type": "code",
   "execution_count": 18,
   "id": "05c2c4ea",
   "metadata": {},
   "outputs": [
    {
     "data": {
      "text/plain": [
       "True"
      ]
     },
     "execution_count": 18,
     "metadata": {},
     "output_type": "execute_result"
    }
   ],
   "source": [
    "3>=3"
   ]
  },
  {
   "cell_type": "code",
   "execution_count": 22,
   "id": "29d002a9",
   "metadata": {},
   "outputs": [
    {
     "data": {
      "text/plain": [
       "True"
      ]
     },
     "execution_count": 22,
     "metadata": {},
     "output_type": "execute_result"
    }
   ],
   "source": [
    "1!= 3"
   ]
  },
  {
   "cell_type": "markdown",
   "id": "3821ace0",
   "metadata": {},
   "source": [
    " # Logical operator"
   ]
  },
  {
   "cell_type": "code",
   "execution_count": 23,
   "id": "3ee2c953",
   "metadata": {},
   "outputs": [
    {
     "data": {
      "text/plain": [
       "0"
      ]
     },
     "execution_count": 23,
     "metadata": {},
     "output_type": "execute_result"
    }
   ],
   "source": [
    "0 and 3  "
   ]
  },
  {
   "cell_type": "code",
   "execution_count": 24,
   "id": "0682ce60",
   "metadata": {},
   "outputs": [
    {
     "data": {
      "text/plain": [
       "3"
      ]
     },
     "execution_count": 24,
     "metadata": {},
     "output_type": "execute_result"
    }
   ],
   "source": [
    "1 and 3"
   ]
  },
  {
   "cell_type": "code",
   "execution_count": 25,
   "id": "1678020d",
   "metadata": {},
   "outputs": [
    {
     "data": {
      "text/plain": [
       "1"
      ]
     },
     "execution_count": 25,
     "metadata": {},
     "output_type": "execute_result"
    }
   ],
   "source": [
    " 1 or 3"
   ]
  },
  {
   "cell_type": "markdown",
   "id": "d01b884f",
   "metadata": {},
   "source": [
    "# understanding variables and data types"
   ]
  },
  {
   "cell_type": "markdown",
   "id": "a27d13e6",
   "metadata": {},
   "source": [
    "''''variables are names or variabels names assigned to objects  <br> \n",
    "variables = value\n",
    "j = 10  <br>\n",
    "k = 12  <br>\n",
    "h = 10  <br>\n",
    "''''"
   ]
  },
  {
   "cell_type": "markdown",
   "id": "757edb51",
   "metadata": {},
   "source": [
    "rules \n",
    "\n",
    "1. python is case sensentive  <br>\n",
    "2. variabels name cannot start with special character except underscore (_)  <br>\n",
    "3 . variables name cannot start with number   <br>\n",
    "\n",
    "-------------------------------------  <br>\n",
    "\n",
    "variables can store int values flote values and bool and string <br>"
   ]
  },
  {
   "cell_type": "markdown",
   "id": "10e49187",
   "metadata": {},
   "source": [
    "# variable Assignment"
   ]
  },
  {
   "cell_type": "code",
   "execution_count": 29,
   "id": "dadafcdb",
   "metadata": {},
   "outputs": [
    {
     "name": "stdout",
     "output_type": "stream",
     "text": [
      "5\n"
     ]
    }
   ],
   "source": [
    "a = 5 \n",
    "print(a)"
   ]
  },
  {
   "cell_type": "code",
   "execution_count": 32,
   "id": "76013afb",
   "metadata": {},
   "outputs": [
    {
     "name": "stdout",
     "output_type": "stream",
     "text": [
      "5.1\n"
     ]
    }
   ],
   "source": [
    "# case sensentive \n",
    "A = 5.1\n",
    "print(A)"
   ]
  },
  {
   "cell_type": "markdown",
   "id": "e8fa37d5",
   "metadata": {},
   "source": [
    "# How to variabels work in python"
   ]
  },
  {
   "cell_type": "code",
   "execution_count": 34,
   "id": "a1076c60",
   "metadata": {},
   "outputs": [
    {
     "name": "stdout",
     "output_type": "stream",
     "text": [
      "3\n"
     ]
    }
   ],
   "source": [
    "a = 7\n",
    "b = a\n",
    "a = 3 \n",
    "print(a)"
   ]
  },
  {
   "cell_type": "code",
   "execution_count": 35,
   "id": "a1de7c47",
   "metadata": {},
   "outputs": [
    {
     "name": "stdout",
     "output_type": "stream",
     "text": [
      "7\n"
     ]
    }
   ],
   "source": [
    "print(b)"
   ]
  },
  {
   "cell_type": "code",
   "execution_count": 36,
   "id": "68202781",
   "metadata": {},
   "outputs": [],
   "source": [
    "a = 5"
   ]
  },
  {
   "cell_type": "code",
   "execution_count": 39,
   "id": "51490617",
   "metadata": {},
   "outputs": [
    {
     "name": "stdout",
     "output_type": "stream",
     "text": [
      "7\n"
     ]
    }
   ],
   "source": [
    "_a= 7\n",
    "print(_a)"
   ]
  },
  {
   "cell_type": "markdown",
   "id": "eccabcaf",
   "metadata": {},
   "source": [
    "# Datatypes in python"
   ]
  },
  {
   "cell_type": "code",
   "execution_count": 41,
   "id": "d0464fe7",
   "metadata": {},
   "outputs": [
    {
     "data": {
      "text/plain": [
       "int"
      ]
     },
     "execution_count": 41,
     "metadata": {},
     "output_type": "execute_result"
    }
   ],
   "source": [
    "a = 5\n",
    "type(a)"
   ]
  },
  {
   "cell_type": "code",
   "execution_count": 42,
   "id": "3aeda00c",
   "metadata": {},
   "outputs": [
    {
     "data": {
      "text/plain": [
       "float"
      ]
     },
     "execution_count": 42,
     "metadata": {},
     "output_type": "execute_result"
    }
   ],
   "source": [
    "a = 5.5\n",
    "type(a)"
   ]
  },
  {
   "cell_type": "code",
   "execution_count": 43,
   "id": "49f4a75b",
   "metadata": {},
   "outputs": [
    {
     "data": {
      "text/plain": [
       "str"
      ]
     },
     "execution_count": 43,
     "metadata": {},
     "output_type": "execute_result"
    }
   ],
   "source": [
    "a = \"akash\"\n",
    "type(a)"
   ]
  },
  {
   "cell_type": "markdown",
   "id": "0de4bef0",
   "metadata": {},
   "source": [
    " # Conditional Statements"
   ]
  },
  {
   "cell_type": "markdown",
   "id": "39ca7f31",
   "metadata": {},
   "source": [
    "\"\"\"\"\n",
    "1  if - else statements : single conditions\n",
    "    \n",
    "    syantax\n",
    "    \n",
    "    if(condition):\n",
    "        statement 1\n",
    "    else:\n",
    "         statement 2 \n",
    "         \n",
    "         \n",
    "2  if - else - else statement : multiple conditions\n",
    "    \n",
    "    \n",
    "    if( condition1):\n",
    "               statement 1\n",
    "    elif(condition2):\n",
    "               statement 2\n",
    "    else :\n",
    "               statement 3\n",
    "               \n",
    "               \n",
    "The expression depicting a true or a false value after the if or elif statement is call : A condition\n",
    "                                 \"\"\"\"\n",
    "    "
   ]
  },
  {
   "cell_type": "markdown",
   "id": "91621e31",
   "metadata": {},
   "source": [
    "# Problem 1 : Take a variable x and print \"even\" if the number is divisible by 2 ,otherwise print \"odd\""
   ]
  },
  {
   "cell_type": "code",
   "execution_count": 56,
   "id": "5881b8d7",
   "metadata": {},
   "outputs": [
    {
     "name": "stdout",
     "output_type": "stream",
     "text": [
      "even\n"
     ]
    }
   ],
   "source": [
    "x = 4\n",
    "\n",
    "if (x%2==0):\n",
    "    print(\"even\")\n",
    "else:\n",
    "    print(\"odd\")"
   ]
  },
  {
   "cell_type": "markdown",
   "id": "0b6a713c",
   "metadata": {},
   "source": [
    "# Problem 2 : Take a variable y and print \"grade A\" if y is grater then 90,\"grade B\"if y is grater then 60 but less then or equal to 90 and \"grade F\" other wise"
   ]
  },
  {
   "cell_type": "code",
   "execution_count": 65,
   "id": "317868e4",
   "metadata": {},
   "outputs": [
    {
     "name": "stdout",
     "output_type": "stream",
     "text": [
      "grade A\n"
     ]
    }
   ],
   "source": [
    "x = 90.5\n",
    "\n",
    "if (x > 90):\n",
    "    print('grade A')\n",
    "elif (x > 60):\n",
    "    print('grade B')\n",
    "else:\n",
    "    print ('Grade F')"
   ]
  },
  {
   "cell_type": "code",
   "execution_count": 67,
   "id": "9ed3545b",
   "metadata": {},
   "outputs": [
    {
     "name": "stdout",
     "output_type": "stream",
     "text": [
      "glass\n"
     ]
    }
   ],
   "source": [
    "if 5 > 10:\n",
    "    print('Fun')\n",
    "elif 8!= 9 :\n",
    "    print(\"glass\")\n",
    "else:\n",
    "    print('Cream')"
   ]
  },
  {
   "cell_type": "markdown",
   "id": "ab88e934",
   "metadata": {},
   "source": [
    "# looping constructs in python"
   ]
  },
  {
   "cell_type": "markdown",
   "id": "82b3a682",
   "metadata": {},
   "source": [
    "# for loop\n",
    "\n",
    "sample for loop in python\n",
    "\n",
    "for i in range(1000):\n",
    "    print(\"python is awesome\") \n",
    "    \"\"\""
   ]
  },
  {
   "cell_type": "code",
   "execution_count": 70,
   "id": "1112df18",
   "metadata": {},
   "outputs": [
    {
     "name": "stdout",
     "output_type": "stream",
     "text": [
      "i am learing python\n",
      "i am learing python\n"
     ]
    }
   ],
   "source": [
    "for i in range(2):\n",
    "    print(\"i am learing python\")"
   ]
  },
  {
   "cell_type": "code",
   "execution_count": 73,
   "id": "1e502053",
   "metadata": {},
   "outputs": [],
   "source": [
    "for i in '':\n",
    "    print(i)"
   ]
  },
  {
   "cell_type": "markdown",
   "id": "f5be49c3",
   "metadata": {},
   "source": [
    "# problem 1 : write a for loop to print all the numbers between 10 and 50"
   ]
  },
  {
   "cell_type": "code",
   "execution_count": 77,
   "id": "7b06cc8b",
   "metadata": {},
   "outputs": [
    {
     "name": "stdout",
     "output_type": "stream",
     "text": [
      "11\n",
      "12\n",
      "13\n",
      "14\n",
      "15\n",
      "16\n",
      "17\n",
      "18\n",
      "19\n",
      "20\n",
      "21\n",
      "22\n",
      "23\n",
      "24\n",
      "25\n",
      "26\n",
      "27\n",
      "28\n",
      "29\n",
      "30\n",
      "31\n",
      "32\n",
      "33\n",
      "34\n",
      "35\n",
      "36\n",
      "37\n",
      "38\n",
      "39\n",
      "40\n",
      "41\n",
      "42\n",
      "43\n",
      "44\n",
      "45\n",
      "46\n",
      "47\n",
      "48\n",
      "49\n"
     ]
    }
   ],
   "source": [
    "for i in range(11,50):\n",
    "    print(i)"
   ]
  },
  {
   "cell_type": "markdown",
   "id": "018587a6",
   "metadata": {},
   "source": [
    "# Problem 2 : Write a for loop to print all thr odd numbers between 10 to 50"
   ]
  },
  {
   "cell_type": "code",
   "execution_count": 81,
   "id": "532eedb9",
   "metadata": {},
   "outputs": [
    {
     "name": "stdout",
     "output_type": "stream",
     "text": [
      "11\n",
      "13\n",
      "15\n",
      "17\n",
      "19\n",
      "21\n",
      "23\n",
      "25\n",
      "27\n",
      "29\n",
      "31\n",
      "33\n",
      "35\n",
      "37\n",
      "39\n",
      "41\n",
      "43\n",
      "45\n",
      "47\n",
      "49\n"
     ]
    }
   ],
   "source": [
    "for i in range(11,50,2): # here 2 is the step skipped\n",
    "    print(i)"
   ]
  },
  {
   "cell_type": "code",
   "execution_count": 84,
   "id": "a728574a",
   "metadata": {},
   "outputs": [
    {
     "name": "stdout",
     "output_type": "stream",
     "text": [
      "1\n",
      "3\n",
      "5\n",
      "7\n",
      "9\n",
      "11\n"
     ]
    }
   ],
   "source": [
    "# print 1 to 99 in odd\n",
    "for i in range(1,13,2):\n",
    "    print(i)"
   ]
  },
  {
   "cell_type": "markdown",
   "id": "bf475db9",
   "metadata": {},
   "source": [
    "Funtions"
   ]
  },
  {
   "cell_type": "markdown",
   "id": "719e346a",
   "metadata": {},
   "source": [
    "what is funtion ?\n",
    "re useable piece of code <br>\n",
    "created for solving specific problem <br>\n",
    "\n",
    "built in funtions <br>\n",
    "print(), range(), min(),max(),etc\n",
    "\n",
    "user defined funtions  <br>\n",
    "area of circal() <br>\n",
    "\n",
    "\n",
    "syntax for defining a funtion \n",
    "\n",
    "def funtion_name(arguments):  <br>\n",
    "  statement 1  <br>\n",
    "  statement 2  <br>\n",
    "  \n",
    "  return statement  <br>\n",
    "  \n",
    "  \n",
    "  example <br>\n",
    "  \n",
    "  def area_circal(radius):  <br>\n",
    "            area = 3.14*r*r <br>\n",
    "          \n",
    "            return area  <br>\n",
    "  "
   ]
  },
  {
   "cell_type": "markdown",
   "id": "dd7af749",
   "metadata": {},
   "source": [
    "# problem : create a funtion that takes two numbers as argument and return the greater of the two"
   ]
  },
  {
   "cell_type": "code",
   "execution_count": 87,
   "id": "bd5f9655",
   "metadata": {},
   "outputs": [],
   "source": [
    "def comapre(a,b):\n",
    "    if (a>b):\n",
    "        grater = a\n",
    "    else:\n",
    "        grater = b\n",
    "    return grater"
   ]
  },
  {
   "cell_type": "code",
   "execution_count": 90,
   "id": "cc3c6543",
   "metadata": {},
   "outputs": [
    {
     "data": {
      "text/plain": [
       "40"
      ]
     },
     "execution_count": 90,
     "metadata": {},
     "output_type": "execute_result"
    }
   ],
   "source": [
    "comapre(10,40)"
   ]
  },
  {
   "cell_type": "code",
   "execution_count": 92,
   "id": "c24f928b",
   "metadata": {},
   "outputs": [
    {
     "data": {
      "text/plain": [
       "30"
      ]
     },
     "execution_count": 92,
     "metadata": {},
     "output_type": "execute_result"
    }
   ],
   "source": [
    "comapre(19,30)"
   ]
  },
  {
   "cell_type": "code",
   "execution_count": 93,
   "id": "e97ea278",
   "metadata": {},
   "outputs": [],
   "source": [
    "def min(a,b):\n",
    "    if (a >b):\n",
    "        return b\n",
    "    elif (a == b ):\n",
    "        return 'The number are eqal'\n",
    "    else:\n",
    "        return a  # both conditions are flase to it return else statement"
   ]
  },
  {
   "cell_type": "code",
   "execution_count": 94,
   "id": "65082a2b",
   "metadata": {},
   "outputs": [
    {
     "data": {
      "text/plain": [
       "200"
      ]
     },
     "execution_count": 94,
     "metadata": {},
     "output_type": "execute_result"
    }
   ],
   "source": [
    "min(200,400)"
   ]
  },
  {
   "cell_type": "code",
   "execution_count": 95,
   "id": "695de84a",
   "metadata": {},
   "outputs": [
    {
     "data": {
      "text/plain": [
       "10"
      ]
     },
     "execution_count": 95,
     "metadata": {},
     "output_type": "execute_result"
    }
   ],
   "source": [
    "min(50,10)  # here first if conditions is true"
   ]
  },
  {
   "cell_type": "markdown",
   "id": "61b8a4ea",
   "metadata": {},
   "source": [
    "# Data structures"
   ]
  },
  {
   "cell_type": "markdown",
   "id": "71f46c7c",
   "metadata": {},
   "source": [
    "existing data types - int,float,bool,str\n",
    "\n",
    "problem with existing data types <br>\n",
    "\n",
    "1.data in a variable can be stored in a single format i.e eoghter integers or decimals or strings etc < br>\n",
    "\n",
    "2. large memory overhead by creating large mumber of variables. < br>\n",
    "\n",
    "3. unfit for storing large structured data <br>\n",
    "\n",
    "\n",
    "two type of data structures for sloving there problems <br>\n",
    "1. list  <br>\n",
    "2. dictionaries <br>"
   ]
  },
  {
   "cell_type": "markdown",
   "id": "ed246afb",
   "metadata": {},
   "source": [
    "# list\n",
    " what is list <br>\n",
    "   a list is a ordered data structure with elemets separated by comma and enclosed within square brackets <br>\n",
    "    \n",
    "# sub setting  <br>\n",
    "\n",
    "list 1 [ 1,2,3,4,5] <br>\n",
    "list 2 [\"a\",\"b\",\"c\"] <br>\n",
    "list 3 [1,\"a\",2, \"b\"] <br> \n",
    "mix data types <br>\n",
    "elements are stored indexing <br>\n",
    "list3[1] = a <br>  ( extracting single elements)\n",
    "list3[1:2] <br>\n",
    "\n",
    "# add elemets <br>\n",
    "\n",
    "append funtion (list.append)<br>\n",
    "for more elements to add (list.extend([5:7]))  <br>\n",
    "\n",
    "\n",
    "# delete elements  <br>\n",
    "\n",
    "deleting an elememts by value  <br>\n",
    "list.remove(2) <br>\n",
    "\n",
    "deleting an elements by index <br>\n",
    "del list[3] <br>\n",
    "\n",
    "# looping over list <br>\n",
    "printing elements of list <br>\n",
    "\n",
    "for i in list3: <br>\n",
    "    print(i) <br>"
   ]
  },
  {
   "cell_type": "code",
   "execution_count": null,
   "id": "9afe0384",
   "metadata": {},
   "outputs": [],
   "source": []
  }
 ],
 "metadata": {
  "kernelspec": {
   "display_name": "Python 3 (ipykernel)",
   "language": "python",
   "name": "python3"
  },
  "language_info": {
   "codemirror_mode": {
    "name": "ipython",
    "version": 3
   },
   "file_extension": ".py",
   "mimetype": "text/x-python",
   "name": "python",
   "nbconvert_exporter": "python",
   "pygments_lexer": "ipython3",
   "version": "3.11.5"
  }
 },
 "nbformat": 4,
 "nbformat_minor": 5
}
